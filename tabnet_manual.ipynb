{
 "cells": [
  {
   "cell_type": "code",
   "execution_count": 2,
   "id": "8869b52a-6fd0-41cb-957d-41799519db1a",
   "metadata": {},
   "outputs": [
    {
     "name": "stdout",
     "output_type": "stream",
     "text": [
      "Downloading file...\n"
     ]
    }
   ],
   "source": [
    "\n",
    "from pytorch_tabnet.tab_model import TabNetClassifier\n",
    "\n",
    "import torch\n",
    "from sklearn.preprocessing import LabelEncoder\n",
    "from sklearn.metrics import roc_auc_score\n",
    "\n",
    "import pandas as pd\n",
    "import numpy as np\n",
    "np.random.seed(0)\n",
    "\n",
    "import os\n",
    "import wget\n",
    "from pathlib import Path\n",
    "\n",
    "from matplotlib import pyplot as plt\n",
    "%matplotlib inline\n",
    "\n",
    "url = \"https://archive.ics.uci.edu/ml/machine-learning-databases/adult/adult.data\"\n",
    "dataset_name = 'census-income'\n",
    "out = Path(os.getcwd()+'/data/'+dataset_name+'.csv')\n",
    "\n",
    "out.parent.mkdir(parents=True, exist_ok=True)\n",
    "if out.exists():\n",
    "    print(\"File already exists.\")\n",
    "else:\n",
    "    print(\"Downloading file...\")\n",
    "    wget.download(url, out.as_posix())\n",
    "    \n",
    "    \n",
    "train = pd.read_csv(out)\n",
    "target = ' <=50K'\n",
    "if \"Set\" not in train.columns:\n",
    "    train[\"Set\"] = np.random.choice([\"train\", \"valid\", \"test\"], p =[.8, .1, .1], size=(train.shape[0],))\n",
    "\n",
    "train_indices = train[train.Set==\"train\"].index\n",
    "valid_indices = train[train.Set==\"valid\"].index\n",
    "test_indices = train[train.Set==\"test\"].index"
   ]
  },
  {
   "cell_type": "code",
   "execution_count": 3,
   "id": "3e1b9fe1-2c42-4503-a233-78c8937b6b36",
   "metadata": {},
   "outputs": [
    {
     "name": "stdout",
     "output_type": "stream",
     "text": [
      "39 73\n",
      " State-gov 9\n",
      " Bachelors 16\n",
      " 13 16\n",
      " Never-married 7\n",
      " Adm-clerical 15\n",
      " Not-in-family 6\n",
      " White 5\n",
      " Male 2\n",
      " 2174 119\n",
      " 0 92\n",
      " 40 94\n",
      " United-States 42\n",
      " <=50K 2\n",
      "Set 3\n"
     ]
    }
   ],
   "source": [
    "nunique = train.nunique()\n",
    "types = train.dtypes\n",
    "\n",
    "categorical_columns = []\n",
    "categorical_dims =  {}\n",
    "for col in train.columns:\n",
    "    if types[col] == 'object' or nunique[col] < 200:\n",
    "        print(col, train[col].nunique())\n",
    "        l_enc = LabelEncoder()\n",
    "        train[col] = train[col].fillna(\"VV_likely\")\n",
    "        train[col] = l_enc.fit_transform(train[col].values)\n",
    "        categorical_columns.append(col)\n",
    "        categorical_dims[col] = len(l_enc.classes_)\n",
    "    else:\n",
    "        train.fillna(train.loc[train_indices, col].mean(), inplace=True)"
   ]
  },
  {
   "cell_type": "code",
   "execution_count": 4,
   "id": "41279b55-de4f-481e-bdc1-963be22ad1c3",
   "metadata": {},
   "outputs": [],
   "source": [
    "unused_feat = ['Set']\n",
    "\n",
    "features = [ col for col in train.columns if col not in unused_feat+[target]] \n",
    "\n",
    "cat_idxs = [ i for i, f in enumerate(features) if f in categorical_columns]\n",
    "\n",
    "cat_dims = [ categorical_dims[f] for i, f in enumerate(features) if f in categorical_columns]\n",
    "\n",
    "X_train = train[features].values[train_indices]\n",
    "y_train = train[target].values[train_indices]\n",
    "\n",
    "X_valid = train[features].values[valid_indices]\n",
    "y_valid = train[target].values[valid_indices]\n",
    "\n",
    "X_test = train[features].values[test_indices]\n",
    "y_test = train[target].values[test_indices]"
   ]
  },
  {
   "cell_type": "code",
   "execution_count": 8,
   "id": "52ffc083-67da-48b1-8404-4e5439ff960a",
   "metadata": {},
   "outputs": [
    {
     "data": {
      "text/plain": [
       "['39',\n",
       " ' State-gov',\n",
       " ' 77516',\n",
       " ' Bachelors',\n",
       " ' 13',\n",
       " ' Never-married',\n",
       " ' Adm-clerical',\n",
       " ' Not-in-family',\n",
       " ' White',\n",
       " ' Male',\n",
       " ' 2174',\n",
       " ' 0',\n",
       " ' 40',\n",
       " ' United-States']"
      ]
     },
     "execution_count": 8,
     "metadata": {},
     "output_type": "execute_result"
    }
   ],
   "source": [
    "features"
   ]
  },
  {
   "cell_type": "code",
   "execution_count": 7,
   "id": "51bd2350-00a5-4cf7-b66c-d20a94116592",
   "metadata": {},
   "outputs": [
    {
     "data": {
      "text/plain": [
       "['39',\n",
       " ' State-gov',\n",
       " ' Bachelors',\n",
       " ' 13',\n",
       " ' Never-married',\n",
       " ' Adm-clerical',\n",
       " ' Not-in-family',\n",
       " ' White',\n",
       " ' Male',\n",
       " ' 2174',\n",
       " ' 0',\n",
       " ' 40',\n",
       " ' United-States',\n",
       " ' <=50K',\n",
       " 'Set']"
      ]
     },
     "execution_count": 7,
     "metadata": {},
     "output_type": "execute_result"
    }
   ],
   "source": [
    "categorical_columns"
   ]
  },
  {
   "cell_type": "code",
   "execution_count": 5,
   "id": "47c0bc4a-0993-4cda-8a8c-32db2efef2fd",
   "metadata": {},
   "outputs": [
    {
     "data": {
      "text/plain": [
       "[0, 1, 3, 4, 5, 6, 7, 8, 9, 10, 11, 12, 13]"
      ]
     },
     "execution_count": 5,
     "metadata": {},
     "output_type": "execute_result"
    }
   ],
   "source": [
    "cat_idxs"
   ]
  },
  {
   "cell_type": "code",
   "execution_count": 6,
   "id": "dfecad77-526b-4535-ac69-96ebabd9fa79",
   "metadata": {},
   "outputs": [
    {
     "data": {
      "text/plain": [
       "[73, 9, 16, 16, 7, 15, 6, 5, 2, 119, 92, 94, 42]"
      ]
     },
     "execution_count": 6,
     "metadata": {},
     "output_type": "execute_result"
    }
   ],
   "source": [
    "cat_dims"
   ]
  },
  {
   "cell_type": "code",
   "execution_count": 10,
   "id": "7d6a023a-3de6-4df2-b1f3-35635764a98b",
   "metadata": {},
   "outputs": [
    {
     "name": "stderr",
     "output_type": "stream",
     "text": [
      "/usr/local/lib/python3.9/site-packages/pytorch_tabnet/abstract_model.py:75: UserWarning: Device used : cpu\n",
      "  warnings.warn(f\"Device used : {self.device}\")\n"
     ]
    }
   ],
   "source": [
    "from pytorch_tabnet.pretraining import TabNetPretrainer\n",
    "\n",
    "# TabNetPretrainer\n",
    "unsupervised_model = TabNetPretrainer(\n",
    "    cat_idxs=cat_idxs,\n",
    "    cat_dims=cat_dims,\n",
    "    cat_emb_dim=3,\n",
    "    optimizer_fn=torch.optim.Adam,\n",
    "    optimizer_params=dict(lr=2e-2),\n",
    "    mask_type='entmax', # \"sparsemax\",\n",
    "    n_shared_decoder=1, # nb shared glu for decoding\n",
    "    n_indep_decoder=1, # nb independent glu for decoding\n",
    "#     grouped_features=[[0, 1]], # you can group features together here\n",
    "    verbose=5,\n",
    ")\n",
    "\n",
    "\n",
    "max_epochs = 100 if not os.getenv(\"CI\", False) else 2 # 1000"
   ]
  },
  {
   "cell_type": "code",
   "execution_count": 11,
   "id": "baa71346-29ce-494b-b7d8-cf6ca43be88e",
   "metadata": {},
   "outputs": [
    {
     "name": "stdout",
     "output_type": "stream",
     "text": [
      "epoch 0  | loss: 6.37668 | val_0_unsup_loss_numpy: 2.2052900791168213|  0:00:00s\n",
      "epoch 5  | loss: 1.05857 | val_0_unsup_loss_numpy: 1.0304800271987915|  0:00:04s\n",
      "epoch 10 | loss: 0.95327 | val_0_unsup_loss_numpy: 0.8934800028800964|  0:00:07s\n",
      "epoch 15 | loss: 0.8705  | val_0_unsup_loss_numpy: 0.8123700022697449|  0:00:11s\n",
      "epoch 20 | loss: 0.79963 | val_0_unsup_loss_numpy: 0.7097399830818176|  0:00:15s\n",
      "epoch 25 | loss: 0.69462 | val_0_unsup_loss_numpy: 0.6313599944114685|  0:00:18s\n",
      "epoch 30 | loss: 0.67904 | val_0_unsup_loss_numpy: 0.6129599809646606|  0:00:22s\n",
      "epoch 35 | loss: 0.65613 | val_0_unsup_loss_numpy: 0.5874599814414978|  0:00:25s\n",
      "epoch 40 | loss: 0.63078 | val_0_unsup_loss_numpy: 0.5667399764060974|  0:00:29s\n",
      "epoch 45 | loss: 0.59874 | val_0_unsup_loss_numpy: 0.530460000038147|  0:00:33s\n",
      "epoch 50 | loss: 0.57078 | val_0_unsup_loss_numpy: 0.4933899939060211|  0:00:36s\n",
      "epoch 55 | loss: 0.53744 | val_0_unsup_loss_numpy: 0.45034000277519226|  0:00:40s\n",
      "epoch 60 | loss: 0.51074 | val_0_unsup_loss_numpy: 0.41903001070022583|  0:00:44s\n",
      "epoch 65 | loss: 0.47425 | val_0_unsup_loss_numpy: 0.37386998534202576|  0:00:47s\n",
      "epoch 70 | loss: 0.40424 | val_0_unsup_loss_numpy: 0.2956799864768982|  0:00:51s\n",
      "epoch 75 | loss: 0.3778  | val_0_unsup_loss_numpy: 0.28780999779701233|  0:00:55s\n",
      "epoch 80 | loss: 0.35449 | val_0_unsup_loss_numpy: 0.24772000312805176|  0:00:58s\n",
      "epoch 85 | loss: 0.34491 | val_0_unsup_loss_numpy: 0.24469999969005585|  0:01:02s\n",
      "\n",
      "Early stopping occurred at epoch 88 with best_epoch = 83 and best_val_0_unsup_loss_numpy = 0.24395999312400818\n"
     ]
    },
    {
     "name": "stderr",
     "output_type": "stream",
     "text": [
      "/usr/local/lib/python3.9/site-packages/pytorch_tabnet/callbacks.py:172: UserWarning: Best weights from best epoch are automatically used!\n",
      "  warnings.warn(wrn_msg)\n"
     ]
    }
   ],
   "source": [
    "unsupervised_model.fit(\n",
    "    X_train=X_train,\n",
    "    eval_set=[X_valid],\n",
    "    max_epochs=max_epochs , patience=5,\n",
    "    batch_size=2048, virtual_batch_size=128,\n",
    "    num_workers=0,\n",
    "    drop_last=False,\n",
    "    pretraining_ratio=0.5,\n",
    ") "
   ]
  },
  {
   "cell_type": "code",
   "execution_count": 12,
   "id": "7dd9d01b-899c-41bf-9503-5eede3ba7ed0",
   "metadata": {},
   "outputs": [
    {
     "data": {
      "image/png": "[encoded data removed]",
      "text/plain": [
       "<Figure size 1440x1440 with 3 Axes>"
      ]
     },
     "metadata": {
      "needs_background": "light"
     },
     "output_type": "display_data"
    }
   ],
   "source": [
    "# Make reconstruction from a dataset\n",
    "reconstructed_X, embedded_X = unsupervised_model.predict(X_valid)\n",
    "assert(reconstructed_X.shape==embedded_X.shape)\n",
    "\n",
    "unsupervised_explain_matrix, unsupervised_masks = unsupervised_model.explain(X_valid)\n",
    "\n",
    "\n",
    "fig, axs = plt.subplots(1, 3, figsize=(20,20))\n",
    "\n",
    "for i in range(3):\n",
    "    axs[i].imshow(unsupervised_masks[i][:50])\n",
    "    axs[i].set_title(f\"mask {i}\")"
   ]
  },
  {
   "cell_type": "code",
   "execution_count": 15,
   "id": "c8f68817-4963-4493-8d55-052720cd6448",
   "metadata": {},
   "outputs": [
    {
     "name": "stdout",
     "output_type": "stream",
     "text": [
      "Successfully saved model at ./test_pretrain.zip\n"
     ]
    },
    {
     "name": "stderr",
     "output_type": "stream",
     "text": [
      "/usr/local/lib/python3.9/site-packages/pytorch_tabnet/abstract_model.py:75: UserWarning: Device used : cpu\n",
      "  warnings.warn(f\"Device used : {self.device}\")\n"
     ]
    }
   ],
   "source": [
    "unsupervised_model.save_model('./test_pretrain')\n",
    "loaded_pretrain = TabNetPretrainer()\n",
    "loaded_pretrain.load_model('./test_pretrain.zip')"
   ]
  },
  {
   "cell_type": "code",
   "execution_count": null,
   "id": "4d3e8f8e-1042-41ef-b3bc-5eee1fa8de53",
   "metadata": {},
   "outputs": [],
   "source": []
  },
  {
   "cell_type": "code",
   "execution_count": 16,
   "id": "ffbc0d29-5307-476d-ab0c-6a62a28c8368",
   "metadata": {},
   "outputs": [
    {
     "name": "stderr",
     "output_type": "stream",
     "text": [
      "/usr/local/lib/python3.9/site-packages/pytorch_tabnet/abstract_model.py:75: UserWarning: Device used : cpu\n",
      "  warnings.warn(f\"Device used : {self.device}\")\n"
     ]
    }
   ],
   "source": [
    "clf = TabNetClassifier(optimizer_fn=torch.optim.Adam,\n",
    "                       optimizer_params=dict(lr=2e-3),\n",
    "                       scheduler_params={\"step_size\":10, # how to use learning rate scheduler\n",
    "                                         \"gamma\":0.9},\n",
    "                       scheduler_fn=torch.optim.lr_scheduler.StepLR,\n",
    "                       mask_type='sparsemax', # This will be overwritten if using pretrain model\n",
    "                       verbose=5,\n",
    "                      )"
   ]
  },
  {
   "cell_type": "code",
   "execution_count": 17,
   "id": "f30e9a0c-e46a-4724-93eb-12830c5d00c3",
   "metadata": {},
   "outputs": [
    {
     "name": "stderr",
     "output_type": "stream",
     "text": [
      "/usr/local/lib/python3.9/site-packages/pytorch_tabnet/abstract_model.py:105: UserWarning: Pretraining: cat_dims changed from [] to [73, 9, 16, 16, 7, 15, 6, 5, 2, 119, 92, 94, 42]\n",
      "  warnings.warn(wrn_msg)\n",
      "/usr/local/lib/python3.9/site-packages/pytorch_tabnet/abstract_model.py:105: UserWarning: Pretraining: cat_emb_dim changed from 1 to 3\n",
      "  warnings.warn(wrn_msg)\n",
      "/usr/local/lib/python3.9/site-packages/pytorch_tabnet/abstract_model.py:105: UserWarning: Pretraining: cat_idxs changed from [] to [0, 1, 3, 4, 5, 6, 7, 8, 9, 10, 11, 12, 13]\n",
      "  warnings.warn(wrn_msg)\n",
      "/usr/local/lib/python3.9/site-packages/pytorch_tabnet/abstract_model.py:105: UserWarning: Pretraining: mask_type changed from sparsemax to entmax\n",
      "  warnings.warn(wrn_msg)\n",
      "/usr/local/lib/python3.9/site-packages/pytorch_tabnet/abstract_model.py:231: UserWarning: Loading weights from unsupervised pretraining\n",
      "  warnings.warn(\"Loading weights from unsupervised pretraining\")\n"
     ]
    },
    {
     "name": "stdout",
     "output_type": "stream",
     "text": [
      "epoch 0  | loss: 2.19459 | train_auc: 0.26203 | valid_auc: 0.23823 |  0:00:00s\n",
      "epoch 5  | loss: 0.43755 | train_auc: 0.87691 | valid_auc: 0.87843 |  0:00:05s\n",
      "epoch 10 | loss: 0.38519 | train_auc: 0.91141 | valid_auc: 0.91385 |  0:00:10s\n",
      "epoch 15 | loss: 0.36663 | train_auc: 0.91956 | valid_auc: 0.91897 |  0:00:15s\n",
      "epoch 20 | loss: 0.35766 | train_auc: 0.92616 | valid_auc: 0.92357 |  0:00:20s\n",
      "epoch 25 | loss: 0.34574 | train_auc: 0.92863 | valid_auc: 0.92636 |  0:00:25s\n",
      "epoch 30 | loss: 0.33634 | train_auc: 0.93275 | valid_auc: 0.92992 |  0:00:30s\n",
      "epoch 35 | loss: 0.33404 | train_auc: 0.93151 | valid_auc: 0.92826 |  0:00:34s\n",
      "epoch 40 | loss: 0.32412 | train_auc: 0.93413 | valid_auc: 0.9315  |  0:00:39s\n",
      "epoch 45 | loss: 0.32894 | train_auc: 0.93499 | valid_auc: 0.93146 |  0:00:44s\n",
      "epoch 50 | loss: 0.32593 | train_auc: 0.93546 | valid_auc: 0.93119 |  0:00:49s\n",
      "epoch 55 | loss: 0.32957 | train_auc: 0.93552 | valid_auc: 0.93064 |  0:00:54s\n",
      "epoch 60 | loss: 0.32316 | train_auc: 0.93628 | valid_auc: 0.93147 |  0:00:58s\n",
      "epoch 65 | loss: 0.31915 | train_auc: 0.93668 | valid_auc: 0.93222 |  0:01:03s\n",
      "epoch 70 | loss: 0.31998 | train_auc: 0.93675 | valid_auc: 0.93133 |  0:01:08s\n",
      "epoch 75 | loss: 0.32182 | train_auc: 0.93694 | valid_auc: 0.93134 |  0:01:13s\n",
      "epoch 80 | loss: 0.32139 | train_auc: 0.93756 | valid_auc: 0.932   |  0:01:18s\n",
      "epoch 85 | loss: 0.32302 | train_auc: 0.93813 | valid_auc: 0.93235 |  0:01:23s\n",
      "epoch 90 | loss: 0.32428 | train_auc: 0.9378  | valid_auc: 0.93236 |  0:01:28s\n",
      "epoch 95 | loss: 0.31849 | train_auc: 0.93848 | valid_auc: 0.93251 |  0:01:32s\n",
      "Stop training because you reached max_epochs = 100 with best_epoch = 95 and best_valid_auc = 0.93251\n"
     ]
    },
    {
     "name": "stderr",
     "output_type": "stream",
     "text": [
      "/usr/local/lib/python3.9/site-packages/pytorch_tabnet/callbacks.py:172: UserWarning: Best weights from best epoch are automatically used!\n",
      "  warnings.warn(wrn_msg)\n"
     ]
    }
   ],
   "source": [
    "clf.fit(\n",
    "    X_train=X_train, y_train=y_train,\n",
    "    eval_set=[(X_train, y_train), (X_valid, y_valid)],\n",
    "    eval_name=['train', 'valid'],\n",
    "    eval_metric=['auc'],\n",
    "    max_epochs=max_epochs , patience=20,\n",
    "    batch_size=1024, virtual_batch_size=128,\n",
    "    num_workers=0,\n",
    "    weights=1,\n",
    "    drop_last=False,\n",
    "    from_unsupervised=loaded_pretrain,\n",
    "    \n",
    ") "
   ]
  },
  {
   "cell_type": "code",
   "execution_count": 19,
   "id": "92b97b0a-b9e5-4aa6-a7f3-9baf0a0bd3d4",
   "metadata": {},
   "outputs": [
    {
     "data": {
      "text/plain": [
       "[<matplotlib.lines.Line2D at 0xffff47e8c310>]"
      ]
     },
     "execution_count": 19,
     "metadata": {},
     "output_type": "execute_result"
    },
    {
     "data": {
      "image/png": "[encoded data removed]",
      "text/plain": [
       "<Figure size 432x288 with 1 Axes>"
      ]
     },
     "metadata": {
      "needs_background": "light"
     },
     "output_type": "display_data"
    }
   ],
   "source": [
    "# plot losses\n",
    "plt.plot(clf.history['loss'])"
   ]
  },
  {
   "cell_type": "code",
   "execution_count": 20,
   "id": "87c20fd3-c8ed-4d20-ab5e-03084db822be",
   "metadata": {},
   "outputs": [
    {
     "data": {
      "text/plain": [
       "[<matplotlib.lines.Line2D at 0xffff47e145b0>]"
      ]
     },
     "execution_count": 20,
     "metadata": {},
     "output_type": "execute_result"
    },
    {
     "data": {
      "image/png": "[encoded data removed]",
      "text/plain": [
       "<Figure size 432x288 with 1 Axes>"
      ]
     },
     "metadata": {
      "needs_background": "light"
     },
     "output_type": "display_data"
    }
   ],
   "source": [
    "# plot auc\n",
    "plt.plot(clf.history['train_auc'])\n",
    "plt.plot(clf.history['valid_auc'])\n",
    "\n",
    "# plot learning rates\n",
    "plt.plot(clf.history['lr'])"
   ]
  },
  {
   "cell_type": "code",
   "execution_count": null,
   "id": "965c8c8b-f7ea-4cd7-9d06-75098a425929",
   "metadata": {},
   "outputs": [],
   "source": []
  },
  {
   "cell_type": "code",
   "execution_count": null,
   "id": "035ba22e-bdc8-4a18-8b20-7779fc1d1958",
   "metadata": {},
   "outputs": [],
   "source": []
  },
  {
   "cell_type": "code",
   "execution_count": 18,
   "id": "c97e9023-5202-455c-981a-752707c5451a",
   "metadata": {},
   "outputs": [
    {
     "name": "stdout",
     "output_type": "stream",
     "text": [
      "BEST VALID SCORE FOR census-income : 0.9325119809413004\n",
      "FINAL TEST SCORE FOR census-income : 0.9308647148704793\n"
     ]
    }
   ],
   "source": [
    "#Predictions\n",
    "preds = clf.predict_proba(X_test)\n",
    "test_auc = roc_auc_score(y_score=preds[:,1], y_true=y_test)\n",
    "\n",
    "\n",
    "preds_valid = clf.predict_proba(X_valid)\n",
    "valid_auc = roc_auc_score(y_score=preds_valid[:,1], y_true=y_valid)\n",
    "\n",
    "print(f\"BEST VALID SCORE FOR {dataset_name} : {clf.best_cost}\")\n",
    "print(f\"FINAL TEST SCORE FOR {dataset_name} : {test_auc}\")\n",
    "\n",
    "\n",
    "\n",
    "# check that best weights are used\n",
    "assert np.isclose(valid_auc, np.max(clf.history['valid_auc']), atol=1e-6)"
   ]
  },
  {
   "cell_type": "code",
   "execution_count": 21,
   "id": "959a5205-d7e9-4c43-88ad-e40d5cf2db75",
   "metadata": {},
   "outputs": [
    {
     "name": "stdout",
     "output_type": "stream",
     "text": [
      "Successfully saved model at ./tabnet_model_test_1.zip\n",
      "FINAL TEST SCORE FOR census-income : 0.9308647148704793\n"
     ]
    },
    {
     "name": "stderr",
     "output_type": "stream",
     "text": [
      "/usr/local/lib/python3.9/site-packages/pytorch_tabnet/abstract_model.py:75: UserWarning: Device used : cpu\n",
      "  warnings.warn(f\"Device used : {self.device}\")\n"
     ]
    }
   ],
   "source": [
    "saving_path_name = \"./tabnet_model_test_1\"\n",
    "saved_filepath = clf.save_model(saving_path_name)\n",
    "\n",
    "# define new model with basic parameters and load state dict weights\n",
    "loaded_clf = TabNetClassifier()\n",
    "loaded_clf.load_model(saved_filepath)\n",
    "\n",
    "\n",
    "loaded_preds = loaded_clf.predict_proba(X_test)\n",
    "loaded_test_auc = roc_auc_score(y_score=loaded_preds[:,1], y_true=y_test)\n",
    "\n",
    "print(f\"FINAL TEST SCORE FOR {dataset_name} : {loaded_test_auc}\")\n",
    "\n",
    "assert(test_auc == loaded_test_auc)"
   ]
  },
  {
   "cell_type": "code",
   "execution_count": 22,
   "id": "0c22d264-d630-4bd0-a4ee-14d7cd2d74b5",
   "metadata": {},
   "outputs": [
    {
     "data": {
      "text/plain": [
       "array([1.14445213e-04, 1.44981320e-02, 4.56911023e-03, 6.93205059e-02,\n",
       "       5.71602262e-02, 9.57990708e-02, 2.03913207e-01, 1.06269901e-01,\n",
       "       5.12364022e-02, 1.03070989e-01, 7.34402616e-02, 8.70895078e-02,\n",
       "       4.46506690e-02, 8.88675717e-02])"
      ]
     },
     "execution_count": 22,
     "metadata": {},
     "output_type": "execute_result"
    }
   ],
   "source": [
    "clf.feature_importances_"
   ]
  },
  {
   "cell_type": "code",
   "execution_count": 23,
   "id": "9374ce52-e8ee-49ee-be5c-b59a88d12c77",
   "metadata": {},
   "outputs": [],
   "source": [
    "explain_matrix, masks = clf.explain(X_test)"
   ]
  },
  {
   "cell_type": "code",
   "execution_count": 24,
   "id": "820d3ed1-7cfd-42e3-a022-44a8e1e1096e",
   "metadata": {},
   "outputs": [
    {
     "data": {
      "image/png": "[encoded data removed]",
      "text/plain": [
       "<Figure size 1440x1440 with 3 Axes>"
      ]
     },
     "metadata": {
      "needs_background": "light"
     },
     "output_type": "display_data"
    }
   ],
   "source": [
    "fig, axs = plt.subplots(1, 3, figsize=(20,20))\n",
    "\n",
    "for i in range(3):\n",
    "    axs[i].imshow(masks[i][:50])\n",
    "    axs[i].set_title(f\"mask {i}\")"
   ]
  },
  {
   "cell_type": "code",
   "execution_count": null,
   "id": "c75e5c49-488c-4a54-9491-d1e174235b3e",
   "metadata": {},
   "outputs": [],
   "source": []
  }
 ],
 "metadata": {
  "kernelspec": {
   "display_name": "Python 3 (ipykernel)",
   "language": "python",
   "name": "python3"
  },
  "language_info": {
   "codemirror_mode": {
    "name": "ipython",
    "version": 3
   },
   "file_extension": ".py",
   "mimetype": "text/x-python",
   "name": "python",
   "nbconvert_exporter": "python",
   "pygments_lexer": "ipython3",
   "version": "3.9.13"
  }
 },
 "nbformat": 4,
 "nbformat_minor": 5
}
